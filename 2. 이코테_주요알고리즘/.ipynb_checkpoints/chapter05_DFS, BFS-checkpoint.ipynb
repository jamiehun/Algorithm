{
 "cells": [
  {
   "cell_type": "markdown",
   "id": "9c830e9a",
   "metadata": {},
   "source": [
    "#### 5-10. py 답안 예시"
   ]
  },
  {
   "cell_type": "markdown",
   "id": "bd1bcb1c",
   "metadata": {},
   "source": [
    "15 14  \n",
    "00000111100000  #1  \n",
    "11111101111110  #2  \n",
    "11011101101110  #3  \n",
    "11011101100000  #4  \n",
    "11011111111111  #5  \n",
    "11011111111100  #6  \n",
    "11000000011111  #7  \n",
    "01111111111111  #8  \n",
    "00000000011111  #9  \n",
    "01111111111000  #10  \n",
    "00011111111000  #11  \n",
    "00000001111000  #12  \n",
    "11111111110011  #13  \n",
    "11100011111111  #14  \n",
    "11100011111111  #15  "
   ]
  },
  {
   "cell_type": "code",
   "execution_count": null,
   "id": "1aa573c4",
   "metadata": {},
   "outputs": [],
   "source": [
    "# 이건 당최 감이 안와서 바로 모범답안을 보았음\n",
    "# N x M 작성\n",
    "n, m = map(int, input().split())\n",
    "\n",
    "# 2차원 리스트 정보 받기\n",
    "graph = []\n",
    "for i in range(n):\n",
    "    graph.append(list(map(int, input())))\n",
    "\n",
    "# DFS으로 특정 노드 방문 후 연결된 노드 모두 방문\n",
    "def dfs(x, y):\n",
    "    if x <= -1 or y <= -1 or x >= n or y >= m :\n",
    "        return False\n",
    "    \n",
    "    if graph[x][y] == 0:\n",
    "        \n",
    "        graph[x][y] = 1\n",
    "        \n",
    "        dfs(x+1, y)\n",
    "        dfs(x-1, y)\n",
    "        dfs(x, y+1)\n",
    "        dfs(x, y-1)\n",
    "        return True\n",
    "    \n",
    "    return False\n",
    "\n",
    "result = 0\n",
    "\n",
    "for i in range(n):\n",
    "    for j in range(m):\n",
    "        if dfs(i, j) == True:\n",
    "            result += 1\n",
    "    \n",
    "print(result)"
   ]
  },
  {
   "cell_type": "markdown",
   "id": "ba1349be",
   "metadata": {},
   "source": [
    "---\n",
    "---"
   ]
  },
  {
   "cell_type": "markdown",
   "id": "5a7532e9",
   "metadata": {},
   "source": [
    "### 4. 미로탈출 (p.152)"
   ]
  },
  {
   "cell_type": "code",
   "execution_count": 11,
   "id": "f4176161",
   "metadata": {},
   "outputs": [
    {
     "name": "stdout",
     "output_type": "stream",
     "text": [
      "3 3\n",
      "110\n",
      "010\n",
      "011\n"
     ]
    },
    {
     "ename": "IndexError",
     "evalue": "list index out of range",
     "output_type": "error",
     "traceback": [
      "\u001b[0;31m---------------------------------------------------------------------------\u001b[0m",
      "\u001b[0;31mIndexError\u001b[0m                                Traceback (most recent call last)",
      "Input \u001b[0;32mIn [11]\u001b[0m, in \u001b[0;36m<cell line: 16>\u001b[0;34m()\u001b[0m\n\u001b[1;32m     18\u001b[0m     path\u001b[38;5;241m.\u001b[39mappend([a, b])\n\u001b[1;32m     19\u001b[0m     \u001b[38;5;28;01mbreak\u001b[39;00m\n\u001b[0;32m---> 21\u001b[0m \u001b[38;5;28;01mif\u001b[39;00m \u001b[43mgraph\u001b[49m\u001b[43m[\u001b[49m\u001b[43ma\u001b[49m\u001b[38;5;241;43m+\u001b[39;49m\u001b[38;5;241;43m1\u001b[39;49m\u001b[43m]\u001b[49m[b] \u001b[38;5;241m==\u001b[39m \u001b[38;5;241m1\u001b[39m:\n\u001b[1;32m     22\u001b[0m     \u001b[38;5;28;01mif\u001b[39;00m a \u001b[38;5;241m>\u001b[39m n :\n\u001b[1;32m     23\u001b[0m         \u001b[38;5;28;01mcontinue\u001b[39;00m\n",
      "\u001b[0;31mIndexError\u001b[0m: list index out of range"
     ]
    }
   ],
   "source": [
    "# 나의 답안\n",
    "# N x M 그래프 만들기\n",
    "n, m = map(int, input().split())\n",
    "\n",
    "# 미로 만들기\n",
    "graph = []\n",
    "\n",
    "for _ in range(n):\n",
    "    graph.append(list(map(int, input())))\n",
    "\n",
    "# 한 줄씩 옮기기\n",
    "path = []\n",
    "a, b = 1, 1\n",
    "\n",
    "path.append((a, b))\n",
    "\n",
    "while True:\n",
    "    if a == n and b == m :\n",
    "        path.append([a, b])\n",
    "        break\n",
    "    \n",
    "    if graph[a+1][b] == 1:\n",
    "        path.append([a+1, b])\n",
    "        a += 1\n",
    "        continue\n",
    "    \n",
    "    elif graph[a][b+1] == 1:\n",
    "        path.append([a, b+1])\n",
    "        b += 1\n",
    "        continue\n",
    "\n",
    "print(graph)\n",
    "print(len(graph))"
   ]
  },
  {
   "cell_type": "code",
   "execution_count": 17,
   "id": "c783383e",
   "metadata": {},
   "outputs": [
    {
     "name": "stdout",
     "output_type": "stream",
     "text": [
      "5 6\n",
      "101010\n",
      "111111\n",
      "000001\n",
      "111111\n",
      "111111\n",
      "10\n"
     ]
    }
   ],
   "source": [
    "# 모범 답안\n",
    "# 아직은 좀 어렵다. 시간이 지나면서 익숙해지겠지.\n",
    "\n",
    "from collections import deque\n",
    "\n",
    "# N, M을 공백으로 구분하여 입력받기\n",
    "n, m = map(int, input().split())\n",
    "\n",
    "# 2차원 리스트의 맵 정보 입력받기\n",
    "graph = []\n",
    "for i in range(n):\n",
    "    graph.append(list(map(int, input())))\n",
    "    \n",
    "    \n",
    "# 이동할 네 방향 정의 (상, 하, 좌, 우)\n",
    "dx = [-1, 1, 0, 0]\n",
    "dy = [0, 0, -1, 1]\n",
    "\n",
    "# BFS 소스코드 구현:\n",
    "def bfs(x, y):\n",
    "    # Queue 구현을 위해 deque 라이브러리 사용\n",
    "    queue = deque()\n",
    "    queue.append((x, y))\n",
    "    \n",
    "    # 큐가 빌 때까지 반복 \n",
    "    while queue:\n",
    "        x, y = queue.popleft()          # popleft()로 두개가 나오는게 신기하다\n",
    "        \n",
    "        # 현재 위치에서 네 방향으로 위치 확인\n",
    "        for i in range(4):\n",
    "            nx = x + dx[i]\n",
    "            ny = y + dy[i]\n",
    "            \n",
    "            # 미로찾기 공간을 벗어난 경우 무시\n",
    "            if nx < 0 or ny < 0 or nx >= n or ny >= m:\n",
    "                continue\n",
    "            \n",
    "            # 벽인 경우 무시\n",
    "            if graph[nx][ny] == 0:\n",
    "                continue\n",
    "            \n",
    "            # 해당 노드를 처음 방문하는 경우에만 최단거리 기록\n",
    "            if graph[nx][ny] == 1:\n",
    "                graph[nx][ny] = graph[x][y] + 1\n",
    "                queue.append((nx, ny))\n",
    "\n",
    "    # 가장 오른쪽 아래까지의 최단거리 반환\n",
    "    return graph[n-1][m-1]\n",
    "\n",
    "# BFS를 수행한 결과 출력\n",
    "print(bfs(0, 0))"
   ]
  },
  {
   "cell_type": "code",
   "execution_count": 18,
   "id": "8fb412b0",
   "metadata": {},
   "outputs": [
    {
     "name": "stdout",
     "output_type": "stream",
     "text": [
      "1 2\n"
     ]
    }
   ],
   "source": [
    "# deque에서 popleft시 두 개의 변수 print되는 것\n",
    "from collections import deque\n",
    "\n",
    "queue = deque()\n",
    "queue.append((1, 2))\n",
    "x, y = queue.popleft()\n",
    "print(x, y)\n"
   ]
  }
 ],
 "metadata": {
  "kernelspec": {
   "display_name": "Python 3 (ipykernel)",
   "language": "python",
   "name": "python3"
  },
  "language_info": {
   "codemirror_mode": {
    "name": "ipython",
    "version": 3
   },
   "file_extension": ".py",
   "mimetype": "text/x-python",
   "name": "python",
   "nbconvert_exporter": "python",
   "pygments_lexer": "ipython3",
   "version": "3.10.4"
  }
 },
 "nbformat": 4,
 "nbformat_minor": 5
}
