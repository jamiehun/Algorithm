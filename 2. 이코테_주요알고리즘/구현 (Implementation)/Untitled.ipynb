{
 "cells": [
  {
   "cell_type": "code",
   "execution_count": 3,
   "id": "41132f49",
   "metadata": {
    "scrolled": true
   },
   "outputs": [
    {
     "name": "stdout",
     "output_type": "stream",
     "text": [
      "4 4\n",
      "4\n",
      "1 1 0\n",
      "1 1 1 1\n",
      "1 0 0 1\n",
      "1 1 0 1\n",
      "1 1 1 1\n",
      "[[1, 1, 1, 1], [1, 0, 0, 1], [1, 1, 0, 1], [1, 1, 1, 1]]\n",
      "3\n"
     ]
    }
   ],
   "source": [
    "# n x m 맵 생성\n",
    "n, m = map(int, input().split())\n",
    "print(n)\n",
    "\n",
    "# 방문 맵 생성\n",
    "visited = [[0] * m for _ in range(n)]\n",
    "\n",
    "# a, b, d (좌표 및 바라보는 방향 입력)\n",
    "a, b, d = map(int, input().split())\n",
    "\n",
    "\"\"\" 답안 보고 추가 \"\"\"\n",
    "# 현재 좌표 방문처리\n",
    "visited[a][b] = 1\n",
    "\n",
    "\n",
    "# 맵 입력\n",
    "game_map = []\n",
    "for i in range(n):\n",
    "    game_map.append(list(map(int, input().split())))\n",
    "\n",
    "print(game_map)\n",
    "\n",
    "# direction에 따른 좌표 변화 저장 (N, E, S, W 순 ; 반시계방향)\n",
    "directions = [(-1, 0), (0, 1), (1, 0), (0, -1)]\n",
    "\n",
    "# 함수 설정\n",
    "count = 1\n",
    "turn_count = 0\n",
    "while True:\n",
    "    # 시계 반대방향으로 전환하되 인덱스가 4 넘으면 4를 빼줌\n",
    "    d += 1\n",
    "    if d >= 4:\n",
    "        d -= 4\n",
    "\n",
    "# \"\"\" 순서 변경한 부분 \"\"\"\n",
    "# 방향 전환 후 이동한 것으로 가정\n",
    "\n",
    "    da = a + directions[d][0]\n",
    "    db = b + directions[d][1]\n",
    "\n",
    "    if game_map[da][db] == 0 and visited[da][db] == 0 :\n",
    "        a = da\n",
    "        b = db\n",
    "        visited[a][b] = 1 \n",
    "        count += 1\n",
    "        turn_count = 0\n",
    "        continue\n",
    "\n",
    "    else:\n",
    "        turn_count += 1\n",
    "\n",
    "    if turn_count == 4:\n",
    "        # 4번 이상 돌면 뒤로 물러나기\n",
    "        da = a - directions[d][0]\n",
    "        db = b - directions[d][1]\n",
    "\n",
    "        if game_map[da][db] == 0:\n",
    "            a = da\n",
    "            b = db\n",
    "    \n",
    "        else:\n",
    "            break\n",
    "\n",
    "        turn_count = 0\n",
    "\n",
    "print(count)\n"
   ]
  },
  {
   "cell_type": "code",
   "execution_count": null,
   "id": "d9aaf584",
   "metadata": {},
   "outputs": [],
   "source": []
  }
 ],
 "metadata": {
  "kernelspec": {
   "display_name": "Python 3 (ipykernel)",
   "language": "python",
   "name": "python3"
  },
  "language_info": {
   "codemirror_mode": {
    "name": "ipython",
    "version": 3
   },
   "file_extension": ".py",
   "mimetype": "text/x-python",
   "name": "python",
   "nbconvert_exporter": "python",
   "pygments_lexer": "ipython3",
   "version": "3.10.4"
  }
 },
 "nbformat": 4,
 "nbformat_minor": 5
}
