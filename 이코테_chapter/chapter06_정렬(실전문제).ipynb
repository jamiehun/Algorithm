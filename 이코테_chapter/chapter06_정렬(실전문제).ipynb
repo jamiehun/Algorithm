{
 "cells": [
  {
   "cell_type": "markdown",
   "id": "46fc6c94",
   "metadata": {},
   "source": [
    "## 2. 위에서 아래로 (p.178)"
   ]
  },
  {
   "cell_type": "code",
   "execution_count": 14,
   "id": "c66430d4",
   "metadata": {},
   "outputs": [
    {
     "name": "stdout",
     "output_type": "stream",
     "text": [
      "3\n",
      "15\n",
      "27\n",
      "12\n",
      "27 15 12 "
     ]
    }
   ],
   "source": [
    "# 첫번째 수 입력받기\n",
    "n = int(input())\n",
    "array = []\n",
    "\n",
    "# 두번째부터 n+1까지의 수 받기\n",
    "for i in range(n):\n",
    "    array.append(int(input()))\n",
    "\n",
    "\n",
    "# array를 반대 순서로 만들기\n",
    "array.sort(reverse=True) # 내부정렬이라 앞에 변수 다시 안 쓰는 것으로 보임 / 혹은 array = sorted(array, reverse=True) 사용\n",
    "\n",
    "# array 출력\n",
    "for j in array:\n",
    "    print(j, end=' ')"
   ]
  },
  {
   "cell_type": "markdown",
   "id": "bf7d6796",
   "metadata": {},
   "source": [
    "## 3. 성적이 낮은 순서로 학생 출력하기 (p.180)"
   ]
  },
  {
   "cell_type": "code",
   "execution_count": 20,
   "id": "88312a40",
   "metadata": {},
   "outputs": [
    {
     "name": "stdout",
     "output_type": "stream",
     "text": [
      "2\n",
      "홍길동 95\n",
      "이순신 77\n",
      "이순신 홍길동 "
     ]
    }
   ],
   "source": [
    "# 첫번째 수 입력 및 리스트 만들기\n",
    "n = int(input())\n",
    "array = []\n",
    "\n",
    "# 두번째줄부터 n+1까지의 수 받기\n",
    "for i in range(n):\n",
    "    a, b = input().split()\n",
    "    b = int(b)\n",
    "    array.append((a, b))\n",
    "# 혹은\n",
    "# for i in range(n):\n",
    "#     input_data = input().split()\n",
    "#     array.append((input_data[0], input_data[1]))\n",
    "\n",
    "# key값만 받는 함수 만들기\n",
    "def setting(data):\n",
    "    return data[1]\n",
    "\n",
    "# array값 올림차순으로 세팅\n",
    "result = sorted(array, key=setting)\n",
    "# 혹은\n",
    "# array = sorted(array, key=lambda student: student[1])\n",
    "\n",
    "# 결과값 출력\n",
    "for j in result:\n",
    "    print(j[0], end=\" \")"
   ]
  },
  {
   "cell_type": "markdown",
   "id": "95b3d1fa",
   "metadata": {},
   "source": [
    "## 4. 두 배열의 원소 교체 (p.182)"
   ]
  },
  {
   "cell_type": "code",
   "execution_count": 24,
   "id": "bdc600f3",
   "metadata": {},
   "outputs": [
    {
     "name": "stdout",
     "output_type": "stream",
     "text": [
      "5 3\n",
      "1 2 5 4 3\n",
      "5 5 6 6 5\n",
      "26\n"
     ]
    }
   ],
   "source": [
    "# 오답원인 : sort_a의 원소가 sort_b의 원소보다 작은 경우를 고려하지 않음\n",
    "# n, k 원소 숫자 입력\n",
    "n, k = map(int, input().split())\n",
    "\n",
    "# a, b 배열 숫자 입력\n",
    "a = list(map(int, input().split()))\n",
    "b = list(map(int, input().split()))\n",
    "\n",
    "# a, b 배열 정렬 (a는 올림차순, b는 내림차순)\n",
    "sort_a = sorted(a)\n",
    "sort_b = sorted(b, reverse=True)\n",
    "\n",
    "# k번 바꾸기\n",
    "for i in range(k):\n",
    "    # sort_a의 원소가 sort_b의 원소보다 작은 경우\n",
    "    if sort_a[i] < sort_b[i]:\n",
    "        # 두 원소를 교체\n",
    "        sort_a[i], sort_b[i] = sort_b[i], sort_a[i]\n",
    "    else: # A의 원소가 B의 원소보다 크거나 같을 때, 반복문을 탈출\n",
    "        break\n",
    "\n",
    "# a 배열 합계 출력\n",
    "print(sum(sort_a))"
   ]
  }
 ],
 "metadata": {
  "kernelspec": {
   "display_name": "Python 3 (ipykernel)",
   "language": "python",
   "name": "python3"
  },
  "language_info": {
   "codemirror_mode": {
    "name": "ipython",
    "version": 3
   },
   "file_extension": ".py",
   "mimetype": "text/x-python",
   "name": "python",
   "nbconvert_exporter": "python",
   "pygments_lexer": "ipython3",
   "version": "3.10.4"
  }
 },
 "nbformat": 4,
 "nbformat_minor": 5
}
