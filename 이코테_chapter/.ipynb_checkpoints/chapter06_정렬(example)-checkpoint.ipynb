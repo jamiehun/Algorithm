{
 "cells": [
  {
   "cell_type": "markdown",
   "id": "12d3def7",
   "metadata": {},
   "source": [
    "## 선택정렬"
   ]
  },
  {
   "cell_type": "markdown",
   "id": "46fc6c94",
   "metadata": {},
   "source": [
    "### 6-1. py 선택 정렬 소스코드"
   ]
  },
  {
   "cell_type": "code",
   "execution_count": 1,
   "id": "63097840",
   "metadata": {},
   "outputs": [
    {
     "name": "stdout",
     "output_type": "stream",
     "text": [
      "[0, 1, 2, 3, 4, 5, 6, 7, 8, 9]\n"
     ]
    }
   ],
   "source": [
    "array = [7, 5, 9, 0, 3, 1, 6, 2, 4, 8]\n",
    "\n",
    "for i in range(len(array)):\n",
    "    min_index = i\n",
    "    for j in range(i+1, len(array)):\n",
    "        if array[min_index] > array[j]:\n",
    "            min_index = j\n",
    "    array[i], array[min_index] = array[min_index], array[i] # 스와프\n",
    "\n",
    "print(array)"
   ]
  },
  {
   "cell_type": "markdown",
   "id": "c8b25235",
   "metadata": {},
   "source": [
    "### 6-2. py 파이썬 스와프(swap) 소스코드"
   ]
  },
  {
   "cell_type": "code",
   "execution_count": 2,
   "id": "101f5d92",
   "metadata": {},
   "outputs": [
    {
     "name": "stdout",
     "output_type": "stream",
     "text": [
      "[5, 3]\n"
     ]
    }
   ],
   "source": [
    "# 0 인덱스와 1 인덱스의 원소 교체하기\n",
    "array = [3, 5]\n",
    "array[0], array[1] = array[1], array[0]\n",
    "\n",
    "print(array)"
   ]
  },
  {
   "cell_type": "markdown",
   "id": "22102b7e",
   "metadata": {},
   "source": [
    "## 삽입정렬"
   ]
  },
  {
   "cell_type": "markdown",
   "id": "540b8681",
   "metadata": {},
   "source": [
    "### 6-3. py 삽입 정렬 소스코드"
   ]
  },
  {
   "cell_type": "code",
   "execution_count": 4,
   "id": "711ec8f2",
   "metadata": {},
   "outputs": [
    {
     "name": "stdout",
     "output_type": "stream",
     "text": [
      "[0, 1, 2, 3, 4, 5, 6, 7, 8, 9]\n"
     ]
    }
   ],
   "source": [
    "array = [7, 5, 9, 0, 3, 1, 6, 2, 4, 8]\n",
    "\n",
    "for i in range(1, len(array)):\n",
    "    for j in range(i, 0, -1):\n",
    "        if array[j] < array[j-1]:\n",
    "            array[j], array[j-1] = array[j-1], array[j]\n",
    "        else:\n",
    "            break\n",
    "    \n",
    "print(array)"
   ]
  },
  {
   "cell_type": "markdown",
   "id": "4c7b87a5",
   "metadata": {},
   "source": [
    "## 퀵정렬"
   ]
  },
  {
   "cell_type": "markdown",
   "id": "8b43286d",
   "metadata": {},
   "source": []
  }
 ],
 "metadata": {
  "kernelspec": {
   "display_name": "Python 3 (ipykernel)",
   "language": "python",
   "name": "python3"
  },
  "language_info": {
   "codemirror_mode": {
    "name": "ipython",
    "version": 3
   },
   "file_extension": ".py",
   "mimetype": "text/x-python",
   "name": "python",
   "nbconvert_exporter": "python",
   "pygments_lexer": "ipython3",
   "version": "3.10.4"
  }
 },
 "nbformat": 4,
 "nbformat_minor": 5
}
